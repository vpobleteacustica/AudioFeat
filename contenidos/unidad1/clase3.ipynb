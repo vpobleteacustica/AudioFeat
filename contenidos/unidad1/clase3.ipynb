{
 "cells": [
  {
   "cell_type": "code",
   "execution_count": 1,
   "metadata": {},
   "outputs": [],
   "source": [
    "import os\n",
    "from PIL import Image\n",
    "from scipy.fftpack import fft, fftshift, ifft\n",
    "from scipy.fftpack import fftfreq\n",
    "import scipy.io.wavfile as wavfile\n",
    "import scipy\n",
    "from scipy import signal\n",
    "import librosa\n",
    "import numpy as np\n",
    "import matplotlib.pyplot as plt\n",
    "import IPython.display as ipd\n",
    "from IPython.display import Audio\n",
    "from IPython import display\n",
    "from matplotlib.ticker import ScalarFormatter\n",
    "from matplotlib.ticker import EngFormatter\n",
    "\n",
    "import soundfile as sf           \n",
    "from scipy.signal import welch   \n",
    "from scipy.io import wavfile\n",
    "import scipy.signal as sps\n",
    "import torch\n",
    "import torchaudio\n",
    "import torchaudio.functional as F\n",
    "import torchaudio.transforms as T\n",
    "from sampling import module_functions\n",
    "from IPython.display import Audio\n",
    "from IPython import display\n",
    "import torch.nn as nn\n",
    "import torchvision\n",
    "from PIL import Image\n",
    "import torchvision.transforms as transforms\n",
    "import torch.nn.functional as Fu\n",
    "\n",
    "%matplotlib inline"
   ]
  },
  {
   "cell_type": "code",
   "execution_count": null,
   "metadata": {},
   "outputs": [],
   "source": [
    "def delta(n):\n",
    "    if n==0:\n",
    "        return 1\n",
    "    else:\n",
    "        return 0"
   ]
  },
  {
   "cell_type": "code",
   "execution_count": null,
   "metadata": {},
   "outputs": [],
   "source": [
    "_SAMPLE_DIR_IMG  = \"image_data\"\n",
    "img_path = os.path.join(_SAMPLE_DIR_IMG, \"LTI.png\")\n",
    "os.makedirs(_SAMPLE_DIR_IMG, exist_ok=True)\n",
    "\n",
    "_SAMPLE_DIR_IMG  = \"image_data\"\n",
    "img_path2 = os.path.join(_SAMPLE_DIR_IMG, \"respuesta_impulso.png\")\n",
    "os.makedirs(_SAMPLE_DIR_IMG, exist_ok=True)"
   ]
  },
  {
   "cell_type": "markdown",
   "metadata": {},
   "source": [
    "# Representamos un sistema lineal e invariante en tiempo discreto (LTI) "
   ]
  },
  {
   "cell_type": "code",
   "execution_count": null,
   "metadata": {},
   "outputs": [],
   "source": [
    "display.Image(img_path, width=\"400\")"
   ]
  },
  {
   "cell_type": "markdown",
   "metadata": {},
   "source": [
    "> Acústicamente, si ingresa una señal de audio original <span style=\"color:red\">**(señal limpia)**</span> $x[n]$, al sistema, éste la transformará $T\\big\\{\\cdot\\big\\}$ en una nueva señal, a la cual le va a otorgar ciertas características acústicas. Esa nueva señal se denomina <span style=\"color:red\">**señal convolucionada**</span> $y[n]$. \n",
    "\n",
    "$$\n",
    "\\begin{align*}\n",
    "y[n] &= T\\big\\{x[n]\\big\\}\n",
    "\\end{align*}\n",
    "$$\n",
    "\n",
    "> O, bien equivalentemente,\n",
    "\n",
    "$$\n",
    "\\begin{align*}\n",
    "x[n] \\xrightarrow[]{T}y[n]\n",
    "\\end{align*}\n",
    "$$\n",
    "\n",
    "> Esta representación, nos permite estimar una salida del sistema a través de una operación matemática llamada <span style=\"color:red\">**suma de convolución**</span>."
   ]
  },
  {
   "cell_type": "markdown",
   "metadata": {},
   "source": [
    "## Respuesta impulso de un sistema\n",
    "\n",
    "> Conceptualmente, la respuesta impulso del sistema es llamada $h[n]$. Corresponde a la salida del sistema cuando en la entrada hay un impulso unitario, también conocido como <span style=\"color:red\">**impulso de Dirac**</span> $\\delta [n]$:"
   ]
  },
  {
   "cell_type": "code",
   "execution_count": null,
   "metadata": {},
   "outputs": [],
   "source": [
    "imp_ = []\n",
    "n = 11\n",
    "for i in range(-n, n+1):\n",
    "    imp = delta(i)\n",
    "    imp_.append(imp)\n",
    "\n",
    "plt.figure(figsize=(9,3))\n",
    "plt.title('$\\delta [n]$')\n",
    "plt.stem(range(-n,n+1), imp_, '--');    "
   ]
  },
  {
   "cell_type": "code",
   "execution_count": null,
   "metadata": {},
   "outputs": [],
   "source": [
    "display.Image(img_path2, width=\"400\")"
   ]
  },
  {
   "cell_type": "markdown",
   "metadata": {},
   "source": [
    "$$\n",
    "\\begin{align*}\n",
    "\\delta[n] \\xrightarrow[]{T}h[n]\n",
    "\\end{align*}\n",
    "$$\n",
    "    \n",
    "$$\n",
    "\\begin{align*}\n",
    "\\hspace{0.15cm} \\delta[n - k] \\xrightarrow[]{T}h[n - k]\n",
    "\\end{align*}\n",
    "$$ \n",
    "    \n",
    "$$\n",
    "\\begin{align*}\n",
    "\\hspace{0.15cm} x[k] \\delta[n - k] \\xrightarrow[]{T} x[k] h[n - k]\n",
    "\\end{align*}\n",
    "$$     \n",
    "    \n",
    "$$\n",
    "\\begin{align*}\n",
    "\\hspace{0.15cm} \\sum_{k=-\\infty}^{\\infty} x[k] \\delta[n - k] \\xrightarrow[]{T} \\sum_{k=-\\infty}^{\\infty} x[k] h[n - k]\n",
    "\\end{align*}\n",
    "$$\n",
    "    \n",
    "$$\n",
    "\\begin{align*}\n",
    "\\hspace{0.15cm} x[n] \\xrightarrow[]{T} y[n]\n",
    "\\end{align*}\n",
    "$$ \n",
    "    \n",
    "> Por lo tanto, por definición la suma de convolución es:\n",
    "$$\n",
    "\\begin{align*}\n",
    "\\hspace{0.15cm} y[n] =   \\sum_{k=-\\infty}^{\\infty} x[k] h[n - k] = x[n]*h[n], \\quad {\\text{para cualquier sistema LTI.}}\n",
    "\\end{align*}\n",
    "$$     \n",
    "    \n"
   ]
  },
  {
   "cell_type": "code",
   "execution_count": null,
   "metadata": {},
   "outputs": [],
   "source": [
    "from IPython.display import Video\n",
    "Video(\"./video_convol.mp4\", width=820, height=820)"
   ]
  },
  {
   "cell_type": "code",
   "execution_count": null,
   "metadata": {},
   "outputs": [],
   "source": []
  }
 ],
 "metadata": {
  "kernelspec": {
   "display_name": "ph",
   "language": "python",
   "name": "ph"
  },
  "language_info": {
   "codemirror_mode": {
    "name": "ipython",
    "version": 3
   },
   "file_extension": ".py",
   "mimetype": "text/x-python",
   "name": "python",
   "nbconvert_exporter": "python",
   "pygments_lexer": "ipython3",
   "version": "3.8.10"
  }
 },
 "nbformat": 4,
 "nbformat_minor": 4
}
